{
 "cells": [
  {
   "cell_type": "code",
   "execution_count": 9,
   "id": "e7966e4c",
   "metadata": {},
   "outputs": [],
   "source": [
    "import numpy as np \n",
    "import matplotlib.pyplot as plt\n",
    "import pandas as pd"
   ]
  },
  {
   "cell_type": "markdown",
   "id": "5ca01837",
   "metadata": {},
   "source": [
    "### Problem 1\n",
    "\n",
    "Derive/show how to compute linear regression coefficients (for general choice of y and X) using the following four methods: naive linear algebra; QR decomposition; SVD; and Cholesky decomposition.\n",
    "\n",
    "Optionally, look up the computational (time) complexity of each of these methods as a function of $p$ (number of predictors/columns of X) and $n$ (number of observations/length of y/rows of X)\n",
    "\n",
    "Pick three of the four algorithms and implement them in the language of your choice. Benchmark your algorithms for a range of magnitudes of $p$ and $n$ covering at least one order of magnitude in $p$ and at least two orders of magnitude in $n$.  Plot your results on a log-log scale. Fit a log-log model to the average times (you can leave out some points if they mess up the scaling relationship)."
   ]
  },
  {
   "cell_type": "markdown",
   "id": "260233fa",
   "metadata": {},
   "source": [
    "1. Naive linear algebra\n",
    "\n",
    "The residual sum-of-squares can be written as\n",
    "\n",
    "$$\n",
    "\\begin{align}\n",
    "\\text{RSS}(\\beta) &= (\\mathbf{y}-\\mathbf{X}\\beta)^T(\\mathbf{y}-\\mathbf{X}\\beta) \\\\\n",
    "&= (\\mathbf{y}^T-\\beta^T\\mathbf{X}^T)(\\mathbf{y}-\\mathbf{X}\\beta) \\\\\n",
    "&= \\mathbf{y}^T\\mathbf{y}-\\mathbf{y}^T\\mathbf{X}\\beta - \\beta^T\\mathbf{X}^T\\mathbf{y} + \\beta^T\\mathbf{X}^T\\mathbf{X}\\beta \\\\\n",
    "&= \\mathbf{y}^T\\mathbf{y}-2\\beta^T\\mathbf{X}^T\\mathbf{y} + \\beta^T\\mathbf{X}^T\\mathbf{X}\\beta\n",
    "\\end{align}\n",
    "$$\n",
    "\n",
    "where the last equality is due to the special case that $\\mathbf{y}$ and $\\beta$ are vectors, such that $\\mathbf{y}^T\\mathbf{X}\\beta$ and $\\beta^T\\mathbf{X}^T\\mathbf{y}$ are scalars and therefore symmetric.\n",
    "\n",
    "Differentiating w.r.t. $\\beta$:\n",
    "\n",
    "$$\n",
    "\\begin{align}\n",
    "\\frac{\\partial \\text{RSS}}{\\partial \\beta} &= -2\\mathbf{X}^T\\mathbf{y} + 2\\mathbf{X}^T\\mathbf{X}\\beta\\\\\n",
    "&= -2\\mathbf{X}^T(\\mathbf{y}-\\mathbf{X}\\beta)\n",
    "\\end{align}\n",
    "$$\n",
    "\n",
    "Setting the derivative to zero gives \n",
    "\n",
    "$$\n",
    "\\begin{align}\n",
    "\\mathbf{X}^T(\\mathbf{y}-\\mathbf{X}\\beta)&=0\\\\\n",
    "\\mathbf{X}^T\\mathbf{X}\\beta &= \\mathbf{X}^T\\mathbf{y} \\\\\n",
    "\\beta &= (\\mathbf{X}^T\\mathbf{X})^{-1}\\mathbf{X}^T\\mathbf{y}\n",
    "\\end{align}$$\n",
    "\n",
    "\n",
    "Resources:   \n",
    "http://www.gatsby.ucl.ac.uk/teaching/courses/sntn/sntn-2017/resources/Matrix_derivatives_cribsheet.pdf  \n",
    "https://math.stackexchange.com/questions/2753210/when-can-we-say-that-a-mathrm-t-b-b-mathrm-t-a"
   ]
  },
  {
   "cell_type": "code",
   "execution_count": 2,
   "id": "273fa54d",
   "metadata": {},
   "outputs": [],
   "source": [
    "def ls_naive(X,y):\n",
    "    return np.matmul(np.matmul(np.linalg.inv(np.matmul(X.T, X)), X.T), y)"
   ]
  },
  {
   "cell_type": "markdown",
   "id": "48837f57",
   "metadata": {},
   "source": [
    "2. QR decomposition\n",
    "\n",
    "Given the factorization $\\mathbf{X}=\\mathbf{Q}\\mathbf{R}$ where $\\mathbf{Q}$ is an orthogonal matrix ($\\mathbf{Q}^T\\mathbf{Q}=\\mathbf{I}$) and $\\mathbf{R}$ is an upper triangular matrix, the equation for $\\beta$ simplifies to:\n",
    "\n",
    "$$\n",
    "\\begin{align}\n",
    "\\beta &= (\\mathbf{X}^T\\mathbf{X})^{-1}\\mathbf{X}^T\\mathbf{y} \\\\\n",
    "&= (\\mathbf{R}^T\\mathbf{Q}^T\\mathbf{Q}\\mathbf{R})^{-1}\\mathbf{R}^T\\mathbf{Q}^T\\mathbf{y} \\\\\n",
    "&= (\\mathbf{R}^T\\mathbf{R})^{-1}\\mathbf{R}^T\\mathbf{Q}^T\\mathbf{y} \\\\\n",
    "&= \\mathbf{R}^{-1}\\mathbf{Q}^T\\mathbf{y}\n",
    "\\end{align}\n",
    "$$\n",
    "\n",
    "As $\\mathbf{R}$ is an upper triangular matrix, the equation \n",
    "\n",
    "$$\\mathbf{R}\\beta=\\mathbf{Q}^T\\mathbf{y}$$\n",
    "\n",
    "can be solved by back substitution.\n",
    "\n",
    "QR decomposition can be computed using e.g. the Gram-Schmidt method\n",
    "\n",
    "Resources:  \n",
    "For realizing that $\\beta = \\mathbf{R}^{-1}\\mathbf{Q}^T\\mathbf{y}$ should be re-arranged to $\\mathbf{R}\\beta=\\mathbf{Q}^T\\mathbf{y}$ and solved using backward substitution: https://stats.stackexchange.com/questions/160007/understanding-qr-decomposition  \n",
    "Implementation of Gram-Schmidt for QR decomposition: https://en.wikipedia.org/wiki/QR_decomposition"
   ]
  },
  {
   "cell_type": "code",
   "execution_count": 3,
   "id": "79fe6a64",
   "metadata": {},
   "outputs": [],
   "source": [
    "def GramSchmidt_QR(X):\n",
    "    U = np.zeros(X.shape)\n",
    "    U[:,0] = X[:,0]\n",
    "    for col_i in range(1,X.shape[1]):\n",
    "        a_i = X[:,col_i]\n",
    "        U[:,col_i] = a_i \n",
    "        for i in range(col_i):\n",
    "            u = U[:,i]\n",
    "            U[:,col_i] -= np.dot(u, a_i)/np.dot(u,u) * u\n",
    "    Q = np.divide(U, np.linalg.norm(U, axis=0))\n",
    "    R = np.matmul(Q.T, X)\n",
    "    return Q, R\n",
    "\n",
    "def ls_QR(X,y):\n",
    "    Q, R = GramSchmidt_QR(X)\n",
    "    beta = np.linalg.solve(R, np.matmul(Q.T, y))\n",
    "    return beta"
   ]
  },
  {
   "cell_type": "markdown",
   "id": "646ace50",
   "metadata": {},
   "source": [
    "3. SVD\n",
    "\n",
    "SVD can be used to decompose $\\mathbf{X}$ into the product of $\\mathbf{U}\\mathbf{S}\\mathbf{V}^T$ where $\\mathbf{U}$ and $\\mathbf{V}$ are unitary matrices. The equation for $\\beta$ can then be simplified:\n",
    "\n",
    "$$\n",
    "\\begin{align}\n",
    "\\beta &= (\\mathbf{X}^T\\mathbf{X})^{-1}\\mathbf{X}^T\\mathbf{y} \\\\\n",
    "&= (\\mathbf{V}\\mathbf{S}^T\\mathbf{U}^T\\mathbf{U}\\mathbf{S}\\mathbf{V}^T)^{-1}\\mathbf{V}\\mathbf{S}^T\\mathbf{U}^T\\mathbf{y}\\\\\n",
    "&= (\\mathbf{V}\\mathbf{S}^T\\mathbf{S}\\mathbf{V}^T)^{-1}\\mathbf{V}\\mathbf{S}^T\\mathbf{U}^T\\mathbf{y} \\\\\n",
    "&= \\mathbf{V}\\mathbf{S}^{-1}(\\mathbf{S}^T)^{-1}\\mathbf{V}^T\\mathbf{V}\\mathbf{S}^T\\mathbf{U}^T\\mathbf{y} \\\\\n",
    "&= \\mathbf{V}\\mathbf{S}^{-1}\\mathbf{U}^T\\mathbf{y}\n",
    "\\end{align}\n",
    "$$\n",
    "\n",
    "\n",
    "Resources used:  \n",
    "https://en.wikipedia.org/wiki/Moore%E2%80%93Penrose_inverse"
   ]
  },
  {
   "cell_type": "code",
   "execution_count": 4,
   "id": "e79ca1d9",
   "metadata": {},
   "outputs": [],
   "source": [
    "def ls_SVD(X,y):\n",
    "    u, s, vh = np.linalg.svd(X)\n",
    "    s_pseudoinv = np.zeros([u.shape[1],vh.shape[0]])\n",
    "    s_pseudoinv[:len(s),:len(s)] = np.diag(1/s)\n",
    "    s_pseudoinv = s_pseudoinv.T\n",
    "    X_pseudoinv = np.matmul(np.matmul(vh.T, s_pseudoinv),u.T)\n",
    "    \n",
    "    return np.matmul(X_pseudoinv,y)"
   ]
  },
  {
   "cell_type": "markdown",
   "id": "d806fb62",
   "metadata": {},
   "source": [
    "4. Cholesky decomposition\n",
    "\n",
    "Alternatively, we can solve $\\mathbf{X}^T\\mathbf{X} \\beta = \\mathbf{X}^T\\mathbf{y}$ by applying a Cholesky decomposition to $\\mathbf{X}^T\\mathbf{X}$, i.e. $\\mathbf{X}^T\\mathbf{X}=\\mathbf{L}\\mathbf{L}^T$, where $\\mathbf{L}$ is lower triangular. We solve for $\\beta$ by first solving  \n",
    "  \n",
    "$$\\mathbf{L}\\mathbf{b} = \\mathbf{X}^T\\mathbf{y}$$\n",
    "\n",
    "by forward substitution, then \n",
    "\n",
    "$$\\mathbf{L}^T\\beta = \\mathbf{b} $$\n",
    "\n",
    "by backward substitution\n",
    "\n",
    "Resources used:  \n",
    "https://en.wikipedia.org/wiki/Cholesky_decomposition  \n",
    "https://numpy.org/doc/stable/reference/generated/numpy.linalg.cholesky.html"
   ]
  },
  {
   "cell_type": "code",
   "execution_count": 5,
   "id": "f94b397e",
   "metadata": {},
   "outputs": [],
   "source": [
    "def ls_cholesky(X,y):\n",
    "    L = np.linalg.cholesky(np.matmul(X.T, X))\n",
    "    b1 = np.linalg.solve(L, np.matmul(X.T,y))\n",
    "    beta = np.linalg.solve(L.T, b1)\n",
    "    return beta"
   ]
  },
  {
   "cell_type": "code",
   "execution_count": null,
   "id": "53a8d0da",
   "metadata": {},
   "outputs": [],
   "source": []
  },
  {
   "cell_type": "code",
   "execution_count": null,
   "id": "12013ff3",
   "metadata": {},
   "outputs": [],
   "source": []
  },
  {
   "cell_type": "code",
   "execution_count": null,
   "id": "1eb279d9",
   "metadata": {},
   "outputs": [],
   "source": []
  },
  {
   "cell_type": "code",
   "execution_count": null,
   "id": "ab3293d2",
   "metadata": {},
   "outputs": [],
   "source": []
  },
  {
   "cell_type": "code",
   "execution_count": null,
   "id": "e109bb88",
   "metadata": {},
   "outputs": [],
   "source": []
  },
  {
   "cell_type": "code",
   "execution_count": null,
   "id": "126b2e62",
   "metadata": {},
   "outputs": [],
   "source": []
  },
  {
   "cell_type": "markdown",
   "id": "c428c633",
   "metadata": {},
   "source": [
    "### Problem 2\n",
    "\n",
    "Implement ridge regression by data augmentation in the language of your choice.  Compare results and timing with a native implementation of ridge regression."
   ]
  },
  {
   "cell_type": "markdown",
   "id": "ed965075",
   "metadata": {},
   "source": [
    "1. Data augmentation\n",
    "\n",
    "From the notes, using the augmented data matrix\n",
    "\n",
    "$$\\mathbf{B} = \\left[ {\\begin{array}{c} \\mathbf{X} \\\\ \\sqrt{\\lambda}\\mathbf{I}\\end{array} } \\right]$$\n",
    "\n",
    "and augmented observations $\\mathbf{y}^* = (\\mathbf{y} \\hspace{1em} 0)$, we have\n",
    "\n",
    "$$(\\mathbf{B}^T\\mathbf{B})\\beta = \\mathbf{B}^T\\mathbf{y}^*$$\n",
    "\n",
    "Applying QR decomposition: $\\mathbf{B}=\\mathbf{Q}\\mathbf{R}$\n",
    "\n",
    "$$\n",
    "\\begin{align}\n",
    "(\\mathbf{R}^T\\mathbf{Q}^T\\mathbf{Q}\\mathbf{R})\\beta &= \\mathbf{R}^T\\mathbf{Q}^T\\mathbf{y}^* \\\\\n",
    "\\mathbf{R}^T\\mathbf{R}\\beta &= \\mathbf{R}^T\\mathbf{Q}^T\\mathbf{y}^*\n",
    "\\end{align}\n",
    "$$\n",
    "\n",
    "which can be solved by first solving \n",
    "\n",
    "$$\\mathbf{R}^T\\mathbf{A} = \\mathbf{R}^T\\mathbf{Q}^T\\mathbf{y}^*$$\n",
    "\n",
    "then solving\n",
    "\n",
    "$$\\mathbf{R}\\beta=\\mathbf{A}$$"
   ]
  },
  {
   "cell_type": "code",
   "execution_count": 47,
   "id": "5007581d",
   "metadata": {},
   "outputs": [],
   "source": [
    "def ridge_augmentation(X,y,lamb):\n",
    "    B = np.zeros([X.shape[0]+X.shape[1], X.shape[1]])\n",
    "    B[:X.shape[0],:] = X\n",
    "    B[X.shape[0]:,:] = np.diag(lamb**0.5 * np.ones(X.shape[1]))\n",
    "    \n",
    "    y_star = np.zeros(len(y)+X.shape[1])\n",
    "    y_star[:len(y)] = y\n",
    "    \n",
    "    Q, R = np.linalg.qr(B)\n",
    "    A = np.linalg.solve(R.T, np.matmul(np.matmul(R.T,Q.T),y_star))\n",
    "    beta = np.linalg.solve(R, A)\n",
    "    return beta"
   ]
  },
  {
   "cell_type": "markdown",
   "id": "cf31ad70",
   "metadata": {},
   "source": [
    "2. Naive implementation\n",
    "\n",
    "$$\\beta^{\\text{ridge}} = (\\mathbf{X}^T\\mathbf{X}+\\lambda\\mathbf{I})^{-1}\\mathbf{X}^T\\mathbf{y}$$"
   ]
  },
  {
   "cell_type": "code",
   "execution_count": 7,
   "id": "c109fa3f",
   "metadata": {},
   "outputs": [],
   "source": [
    "def ridge_naive(X,y,lamb):\n",
    "    XTX = np.matmul(X.T,X) \n",
    "    inv = np.linalg.inv(XTX + np.diag(lamb*np.ones(XTX.shape[0])))\n",
    "    return np.matmul(np.matmul(inv, X.T),y)"
   ]
  },
  {
   "cell_type": "code",
   "execution_count": 100,
   "id": "3bd8da38",
   "metadata": {},
   "outputs": [],
   "source": [
    "def compute_RSS(X, y, beta):\n",
    "    residuals = y - np.matmul(X,beta)\n",
    "    return np.matmul(residuals.T, residuals)\n",
    "\n",
    "def normalize_columns(A):\n",
    "    \"\"\"scale to have mean zero and variance 96 like in ESL\"\"\"\n",
    "    A -= np.mean(A, axis=0)\n",
    "    std = np.std(A, axis=0)\n",
    "    std[std==0] = 1\n",
    "    A /= std\n",
    "    A *= 96**0.5\n",
    "    A[:,-1] = 1 # restore the bias column\n",
    "    return A"
   ]
  },
  {
   "cell_type": "code",
   "execution_count": 101,
   "id": "23a2670f",
   "metadata": {},
   "outputs": [
    {
     "data": {
      "text/html": [
       "<div>\n",
       "<style scoped>\n",
       "    .dataframe tbody tr th:only-of-type {\n",
       "        vertical-align: middle;\n",
       "    }\n",
       "\n",
       "    .dataframe tbody tr th {\n",
       "        vertical-align: top;\n",
       "    }\n",
       "\n",
       "    .dataframe thead th {\n",
       "        text-align: right;\n",
       "    }\n",
       "</style>\n",
       "<table border=\"1\" class=\"dataframe\">\n",
       "  <thead>\n",
       "    <tr style=\"text-align: right;\">\n",
       "      <th></th>\n",
       "      <th>lcavol</th>\n",
       "      <th>lweight</th>\n",
       "      <th>age</th>\n",
       "      <th>lbph</th>\n",
       "      <th>svi</th>\n",
       "      <th>lcp</th>\n",
       "      <th>gleason</th>\n",
       "      <th>pgg45</th>\n",
       "      <th>lpsa</th>\n",
       "      <th>train</th>\n",
       "    </tr>\n",
       "  </thead>\n",
       "  <tbody>\n",
       "    <tr>\n",
       "      <th>1</th>\n",
       "      <td>-0.579818</td>\n",
       "      <td>2.769459</td>\n",
       "      <td>50</td>\n",
       "      <td>-1.386294</td>\n",
       "      <td>0</td>\n",
       "      <td>-1.386294</td>\n",
       "      <td>6</td>\n",
       "      <td>0</td>\n",
       "      <td>-0.430783</td>\n",
       "      <td>T</td>\n",
       "    </tr>\n",
       "    <tr>\n",
       "      <th>2</th>\n",
       "      <td>-0.994252</td>\n",
       "      <td>3.319626</td>\n",
       "      <td>58</td>\n",
       "      <td>-1.386294</td>\n",
       "      <td>0</td>\n",
       "      <td>-1.386294</td>\n",
       "      <td>6</td>\n",
       "      <td>0</td>\n",
       "      <td>-0.162519</td>\n",
       "      <td>T</td>\n",
       "    </tr>\n",
       "    <tr>\n",
       "      <th>3</th>\n",
       "      <td>-0.510826</td>\n",
       "      <td>2.691243</td>\n",
       "      <td>74</td>\n",
       "      <td>-1.386294</td>\n",
       "      <td>0</td>\n",
       "      <td>-1.386294</td>\n",
       "      <td>7</td>\n",
       "      <td>20</td>\n",
       "      <td>-0.162519</td>\n",
       "      <td>T</td>\n",
       "    </tr>\n",
       "    <tr>\n",
       "      <th>4</th>\n",
       "      <td>-1.203973</td>\n",
       "      <td>3.282789</td>\n",
       "      <td>58</td>\n",
       "      <td>-1.386294</td>\n",
       "      <td>0</td>\n",
       "      <td>-1.386294</td>\n",
       "      <td>6</td>\n",
       "      <td>0</td>\n",
       "      <td>-0.162519</td>\n",
       "      <td>T</td>\n",
       "    </tr>\n",
       "    <tr>\n",
       "      <th>5</th>\n",
       "      <td>0.751416</td>\n",
       "      <td>3.432373</td>\n",
       "      <td>62</td>\n",
       "      <td>-1.386294</td>\n",
       "      <td>0</td>\n",
       "      <td>-1.386294</td>\n",
       "      <td>6</td>\n",
       "      <td>0</td>\n",
       "      <td>0.371564</td>\n",
       "      <td>T</td>\n",
       "    </tr>\n",
       "  </tbody>\n",
       "</table>\n",
       "</div>"
      ],
      "text/plain": [
       "     lcavol   lweight  age      lbph  svi       lcp  gleason  pgg45      lpsa  \\\n",
       "1 -0.579818  2.769459   50 -1.386294    0 -1.386294        6      0 -0.430783   \n",
       "2 -0.994252  3.319626   58 -1.386294    0 -1.386294        6      0 -0.162519   \n",
       "3 -0.510826  2.691243   74 -1.386294    0 -1.386294        7     20 -0.162519   \n",
       "4 -1.203973  3.282789   58 -1.386294    0 -1.386294        6      0 -0.162519   \n",
       "5  0.751416  3.432373   62 -1.386294    0 -1.386294        6      0  0.371564   \n",
       "\n",
       "  train  \n",
       "1     T  \n",
       "2     T  \n",
       "3     T  \n",
       "4     T  \n",
       "5     T  "
      ]
     },
     "execution_count": 101,
     "metadata": {},
     "output_type": "execute_result"
    }
   ],
   "source": [
    "prostate_data = pd.read_csv(\"prostate_cancer.txt\", index_col=0, delimiter='\\t')\n",
    "prostate_data[\"train\"].astype(\"category\")\n",
    "prostate_data.head()"
   ]
  },
  {
   "cell_type": "code",
   "execution_count": 102,
   "id": "c4c96a96",
   "metadata": {},
   "outputs": [],
   "source": [
    "prostate_data[\"bias\"] = 1 # add bias column for regression\n",
    "train_set = prostate_data[prostate_data[\"train\"]==\"T\"]\n",
    "test_set = prostate_data[prostate_data[\"train\"]==\"F\"]\n",
    "\n",
    "train_X = train_set[[\"lcavol\", \"lweight\", \"age\", \"lbph\", \"svi\", \"lcp\", \"gleason\", \"pgg45\", \"bias\"]].to_numpy()\n",
    "train_X = normalize_columns(train_X)\n",
    "train_Y = train_set[\"lpsa\"].to_numpy()\n",
    "\n",
    "test_X = test_set[[\"lcavol\", \"lweight\", \"age\", \"lbph\", \"svi\", \"lcp\", \"gleason\", \"pgg45\", \"bias\"]].to_numpy()\n",
    "test_X = normalize_columns(test_X)\n",
    "test_Y = test_set[\"lpsa\"].to_numpy()"
   ]
  },
  {
   "cell_type": "code",
   "execution_count": 103,
   "id": "0d329ee0",
   "metadata": {},
   "outputs": [],
   "source": [
    "n = 20\n",
    "lambdas = np.linspace(0, 5, n)\n",
    "\n",
    "RSS_aug = np.zeros(n)\n",
    "RSS_naive = np.zeros(n)\n",
    "for i in range(len(lambdas)):\n",
    "    beta_aug = ridge_augmentation(train_X, train_Y, lambdas[i])\n",
    "    beta_naive = ridge_naive(train_X, train_Y, lambdas[i])\n",
    "    RSS_aug[i] = compute_RSS(test_X, test_Y, beta_aug)\n",
    "    RSS_naive[i] = compute_RSS(test_X, test_Y, beta_naive)"
   ]
  },
  {
   "cell_type": "code",
   "execution_count": 104,
   "id": "f9e8f43e",
   "metadata": {},
   "outputs": [
    {
     "data": {
      "image/png": "[encoded data removed]",
      "text/plain": [
       "<Figure size 640x480 with 1 Axes>"
      ]
     },
     "metadata": {},
     "output_type": "display_data"
    }
   ],
   "source": [
    "plt.plot(lambdas, RSS_aug, ls='dashed', label=\"data augmentation\")\n",
    "plt.plot(lambdas, RSS_naive, ls='dotted', label=\"naive\")\n",
    "plt.legend(loc='best')\n",
    "plt.xlabel(\"$\\lambda$\")\n",
    "plt.ylabel(\"RSS\")\n",
    "plt.show()"
   ]
  },
  {
   "cell_type": "code",
   "execution_count": 105,
   "id": "87bf93ea",
   "metadata": {},
   "outputs": [
    {
     "name": "stdout",
     "output_type": "stream",
     "text": [
      "28.6 µs ± 2.16 µs per loop (mean ± std. dev. of 10 runs, 10,000 loops each)\n"
     ]
    }
   ],
   "source": [
    "%timeit -r 10 ridge_augmentation(train_X, train_Y, 1)"
   ]
  },
  {
   "cell_type": "code",
   "execution_count": 106,
   "id": "33765472",
   "metadata": {},
   "outputs": [
    {
     "name": "stdout",
     "output_type": "stream",
     "text": [
      "20.5 µs ± 2.36 µs per loop (mean ± std. dev. of 10 runs, 10,000 loops each)\n"
     ]
    }
   ],
   "source": [
    "%timeit -r 10 ridge_naive(train_X, train_Y, 1)"
   ]
  },
  {
   "cell_type": "code",
   "execution_count": null,
   "id": "3c0c7a9d",
   "metadata": {},
   "outputs": [],
   "source": []
  },
  {
   "cell_type": "code",
   "execution_count": null,
   "id": "428c0861",
   "metadata": {},
   "outputs": [],
   "source": []
  },
  {
   "cell_type": "code",
   "execution_count": null,
   "id": "d7223475",
   "metadata": {},
   "outputs": [],
   "source": []
  }
 ],
 "metadata": {
  "kernelspec": {
   "display_name": "Python 3 (ipykernel)",
   "language": "python",
   "name": "python3"
  },
  "language_info": {
   "codemirror_mode": {
    "name": "ipython",
    "version": 3
   },
   "file_extension": ".py",
   "mimetype": "text/x-python",
   "name": "python",
   "nbconvert_exporter": "python",
   "pygments_lexer": "ipython3",
   "version": "3.8.10"
  }
 },
 "nbformat": 4,
 "nbformat_minor": 5
}
