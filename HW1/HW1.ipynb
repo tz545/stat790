{
 "cells": [
  {
   "cell_type": "code",
   "execution_count": 50,
   "id": "71864799",
   "metadata": {},
   "outputs": [],
   "source": [
    "using Pkg"
   ]
  },
  {
   "cell_type": "code",
   "execution_count": 51,
   "id": "2ce6c620",
   "metadata": {},
   "outputs": [
    {
     "name": "stderr",
     "output_type": "stream",
     "text": [
      "\u001b[32m\u001b[1m   Resolving\u001b[22m\u001b[39m package versions...\n",
      "\u001b[32m\u001b[1m  No Changes\u001b[22m\u001b[39m to `~/.julia/environments/v1.8/Project.toml`\n",
      "\u001b[32m\u001b[1m  No Changes\u001b[22m\u001b[39m to `~/.julia/environments/v1.8/Manifest.toml`\n"
     ]
    }
   ],
   "source": [
    "Pkg.add(\"Plots\")"
   ]
  },
  {
   "cell_type": "code",
   "execution_count": 52,
   "id": "650e4c15",
   "metadata": {},
   "outputs": [],
   "source": [
    "using DelimitedFiles\n",
    "using Plots"
   ]
  },
  {
   "cell_type": "code",
   "execution_count": 53,
   "id": "2e2d5650",
   "metadata": {},
   "outputs": [
    {
     "data": {
      "text/plain": [
       "7291×257 Matrix{Float64}:\n",
       " 1.0  -1.0    -1.0    -1.0    -1.0    -1.0    …  -1.0    -1.0    -1.0    -1.0\n",
       " 1.0  -1.0    -1.0    -1.0    -0.813  -0.671     -0.095  -0.671  -0.828  -1.0\n",
       " 1.0  -1.0    -1.0    -1.0    -1.0    -1.0       -1.0    -1.0    -1.0    -1.0\n",
       " 1.0  -1.0    -1.0    -1.0    -1.0    -1.0       -1.0    -1.0    -1.0    -1.0\n",
       " 1.0  -1.0    -1.0    -1.0    -1.0    -1.0       -0.199  -0.883  -1.0    -1.0\n",
       " 1.0  -1.0    -1.0    -1.0    -1.0    -1.0    …  -1.0    -1.0    -1.0    -1.0\n",
       " 1.0  -1.0    -1.0    -1.0    -0.83    0.442     -1.0    -1.0    -1.0    -1.0\n",
       " 1.0  -1.0    -1.0    -1.0    -1.0    -1.0       -1.0    -1.0    -1.0    -1.0\n",
       " 1.0  -1.0    -1.0    -1.0    -1.0    -1.0       -1.0    -1.0    -1.0    -1.0\n",
       " 1.0  -1.0    -1.0    -1.0    -1.0    -1.0       -1.0    -1.0    -1.0    -1.0\n",
       " 1.0  -1.0    -1.0    -1.0    -1.0    -1.0    …  -1.0    -1.0    -1.0    -1.0\n",
       " 1.0  -1.0    -1.0    -1.0    -1.0    -1.0       -1.0    -1.0    -1.0    -1.0\n",
       " 1.0  -1.0    -1.0    -1.0    -1.0    -1.0       -1.0    -1.0    -1.0    -1.0\n",
       " ⋮                                     ⋮      ⋱                   ⋮      \n",
       " 1.0  -1.0    -1.0    -1.0    -1.0    -1.0       -1.0    -1.0    -1.0    -1.0\n",
       " 1.0  -1.0    -1.0    -1.0    -1.0    -1.0    …  -1.0    -1.0    -1.0    -1.0\n",
       " 1.0  -0.698   0.12    0.36    0.36    0.549     -1.0    -1.0    -1.0    -1.0\n",
       " 1.0  -1.0    -0.882  -0.334   0.267   0.333     -0.82   -1.0    -1.0    -1.0\n",
       " 1.0  -0.985  -0.048   0.226   0.226   0.226     -1.0    -1.0    -1.0    -1.0\n",
       " 1.0  -1.0    -1.0    -1.0    -1.0    -1.0       -1.0    -1.0    -1.0    -1.0\n",
       " 1.0  -1.0    -1.0    -1.0    -1.0    -1.0    …  -1.0    -1.0    -1.0    -1.0\n",
       " 1.0  -1.0    -1.0    -1.0    -0.988  -0.527     -1.0    -1.0    -1.0    -1.0\n",
       " 1.0  -1.0    -1.0    -1.0    -0.99    0.708     -1.0    -1.0    -1.0    -1.0\n",
       " 1.0  -1.0    -1.0    -1.0    -0.783  -0.984     -1.0    -1.0    -1.0    -1.0\n",
       " 1.0  -1.0    -1.0    -1.0    -1.0    -1.0       -1.0    -1.0    -1.0    -1.0\n",
       " 1.0  -1.0    -1.0    -1.0    -1.0    -1.0    …  -1.0    -1.0    -1.0    -1.0"
      ]
     },
     "execution_count": 53,
     "metadata": {},
     "output_type": "execute_result"
    }
   ],
   "source": [
    "## Read in training data (format is in rows of 217 numbers, where the first number is the label 0-9, and the remaining 256 numbers indicate the pixel intensity)\n",
    "training_data = readdlm(\"zip.train\")\n",
    "training_data_y = convert(Vector{Int8}, training_data[:,1])\n",
    "training_data[:,1] .= 1 #create column of ones for intercept\n",
    "training_data"
   ]
  },
  {
   "cell_type": "code",
   "execution_count": 57,
   "id": "3285fc60",
   "metadata": {},
   "outputs": [
    {
     "data": {
      "text/plain": [
       "0.19009738033191606"
      ]
     },
     "execution_count": 57,
     "metadata": {},
     "output_type": "execute_result"
    }
   ],
   "source": [
    "## Filter for '2' and '3'. \n",
    "A = training_data[2 .<= training_data_y .<= 3,:]\n",
    "b = training_data_y[2 .<= training_data_y .<= 3]\n",
    "\n",
    "## compute least squares coefficients\n",
    "x = A\\b\n",
    "\n",
    "## compute training data\n",
    "train_predictions = round.(Int8, training_data * x)\n",
    "lr_train_error = sum(train_predictions .== training_data_y)/length(training_data_y)"
   ]
  },
  {
   "cell_type": "code",
   "execution_count": 56,
   "id": "ab68c235",
   "metadata": {},
   "outputs": [
    {
     "data": {
      "text/plain": [
       "0.9587912087912088"
      ]
     },
     "execution_count": 56,
     "metadata": {},
     "output_type": "execute_result"
    }
   ],
   "source": [
    "test_data = readdlm(\"zip.test\")\n",
    "test_data_y = convert(Vector{Int8}, test_data[:,1])\n",
    "test_data[:,1] .= 1\n",
    "\n",
    "test_data = test_data[2 .<= test_data_y .<= 3,:]\n",
    "test_data_y = test_data_y[2 .<= test_data_y .<= 3]\n",
    "\n",
    "test_predictions = round.(Int8, test_data * x)\n",
    "lr_test_error = sum(test_predictions .== test_data_y)/length(test_data_y)"
   ]
  },
  {
   "cell_type": "code",
   "execution_count": null,
   "id": "d054dd5a",
   "metadata": {},
   "outputs": [],
   "source": []
  }
 ],
 "metadata": {
  "kernelspec": {
   "display_name": "Julia 1.8.4",
   "language": "julia",
   "name": "julia-1.8"
  },
  "language_info": {
   "file_extension": ".jl",
   "mimetype": "application/julia",
   "name": "julia",
   "version": "1.8.4"
  }
 },
 "nbformat": 4,
 "nbformat_minor": 5
}
